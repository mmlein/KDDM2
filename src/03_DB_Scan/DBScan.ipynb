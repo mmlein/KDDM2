{
 "cells": [
  {
   "cell_type": "code",
   "execution_count": 1,
   "id": "812ab893-c307-4f49-8f79-32b0e408bf28",
   "metadata": {},
   "outputs": [],
   "source": [
    "import pandas as pd\n",
    "import numpy as np\n",
    "import matplotlib.pyplot as plt\n",
    "from sklearn.cluster import DBSCAN\n",
    "from scipy.stats import kstest\n",
    "from sklearn.neighbors import NearestNeighbors\n",
    "from sklearn.metrics import f1_score, accuracy_score, precision_score, recall_score"
   ]
  },
  {
   "cell_type": "code",
   "execution_count": 2,
   "id": "6c83f6e2-998a-4720-9869-920b35f1e28a",
   "metadata": {},
   "outputs": [
    {
     "data": {
      "text/html": [
       "<div>\n",
       "<style scoped>\n",
       "    .dataframe tbody tr th:only-of-type {\n",
       "        vertical-align: middle;\n",
       "    }\n",
       "\n",
       "    .dataframe tbody tr th {\n",
       "        vertical-align: top;\n",
       "    }\n",
       "\n",
       "    .dataframe thead th {\n",
       "        text-align: right;\n",
       "    }\n",
       "</style>\n",
       "<table border=\"1\" class=\"dataframe\">\n",
       "  <thead>\n",
       "    <tr style=\"text-align: right;\">\n",
       "      <th></th>\n",
       "      <th>1</th>\n",
       "      <th>2</th>\n",
       "      <th>3</th>\n",
       "      <th>4</th>\n",
       "      <th>5</th>\n",
       "      <th>6</th>\n",
       "      <th>7</th>\n",
       "      <th>8</th>\n",
       "      <th>9</th>\n",
       "      <th>10</th>\n",
       "      <th>11</th>\n",
       "      <th>12</th>\n",
       "      <th>13</th>\n",
       "      <th>14</th>\n",
       "      <th>15</th>\n",
       "      <th>16</th>\n",
       "      <th>17</th>\n",
       "    </tr>\n",
       "  </thead>\n",
       "  <tbody>\n",
       "    <tr>\n",
       "      <th>0</th>\n",
       "      <td>A</td>\n",
       "      <td>1.0</td>\n",
       "      <td>1.0</td>\n",
       "      <td>3.0</td>\n",
       "      <td>2.0</td>\n",
       "      <td>1.0</td>\n",
       "      <td>8.0</td>\n",
       "      <td>2.0</td>\n",
       "      <td>2.0</td>\n",
       "      <td>2.0</td>\n",
       "      <td>8.0</td>\n",
       "      <td>2.0</td>\n",
       "      <td>8.0</td>\n",
       "      <td>1.0</td>\n",
       "      <td>6.0</td>\n",
       "      <td>2.0</td>\n",
       "      <td>7.0</td>\n",
       "    </tr>\n",
       "    <tr>\n",
       "      <th>1</th>\n",
       "      <td>A</td>\n",
       "      <td>3.0</td>\n",
       "      <td>7.0</td>\n",
       "      <td>5.0</td>\n",
       "      <td>5.0</td>\n",
       "      <td>3.0</td>\n",
       "      <td>12.0</td>\n",
       "      <td>2.0</td>\n",
       "      <td>3.0</td>\n",
       "      <td>2.0</td>\n",
       "      <td>10.0</td>\n",
       "      <td>2.0</td>\n",
       "      <td>9.0</td>\n",
       "      <td>2.0</td>\n",
       "      <td>6.0</td>\n",
       "      <td>3.0</td>\n",
       "      <td>8.0</td>\n",
       "    </tr>\n",
       "    <tr>\n",
       "      <th>2</th>\n",
       "      <td>A</td>\n",
       "      <td>3.0</td>\n",
       "      <td>8.0</td>\n",
       "      <td>5.0</td>\n",
       "      <td>6.0</td>\n",
       "      <td>3.0</td>\n",
       "      <td>9.0</td>\n",
       "      <td>2.0</td>\n",
       "      <td>2.0</td>\n",
       "      <td>3.0</td>\n",
       "      <td>8.0</td>\n",
       "      <td>2.0</td>\n",
       "      <td>8.0</td>\n",
       "      <td>2.0</td>\n",
       "      <td>6.0</td>\n",
       "      <td>3.0</td>\n",
       "      <td>7.0</td>\n",
       "    </tr>\n",
       "    <tr>\n",
       "      <th>3</th>\n",
       "      <td>A</td>\n",
       "      <td>2.0</td>\n",
       "      <td>1.0</td>\n",
       "      <td>4.0</td>\n",
       "      <td>2.0</td>\n",
       "      <td>1.0</td>\n",
       "      <td>8.0</td>\n",
       "      <td>1.0</td>\n",
       "      <td>2.0</td>\n",
       "      <td>2.0</td>\n",
       "      <td>7.0</td>\n",
       "      <td>2.0</td>\n",
       "      <td>8.0</td>\n",
       "      <td>2.0</td>\n",
       "      <td>5.0</td>\n",
       "      <td>2.0</td>\n",
       "      <td>7.0</td>\n",
       "    </tr>\n",
       "    <tr>\n",
       "      <th>4</th>\n",
       "      <td>A</td>\n",
       "      <td>3.0</td>\n",
       "      <td>7.0</td>\n",
       "      <td>5.0</td>\n",
       "      <td>5.0</td>\n",
       "      <td>3.0</td>\n",
       "      <td>10.0</td>\n",
       "      <td>4.0</td>\n",
       "      <td>1.0</td>\n",
       "      <td>2.0</td>\n",
       "      <td>8.0</td>\n",
       "      <td>3.0</td>\n",
       "      <td>9.0</td>\n",
       "      <td>2.0</td>\n",
       "      <td>4.0</td>\n",
       "      <td>2.0</td>\n",
       "      <td>7.0</td>\n",
       "    </tr>\n",
       "    <tr>\n",
       "      <th>...</th>\n",
       "      <td>...</td>\n",
       "      <td>...</td>\n",
       "      <td>...</td>\n",
       "      <td>...</td>\n",
       "      <td>...</td>\n",
       "      <td>...</td>\n",
       "      <td>...</td>\n",
       "      <td>...</td>\n",
       "      <td>...</td>\n",
       "      <td>...</td>\n",
       "      <td>...</td>\n",
       "      <td>...</td>\n",
       "      <td>...</td>\n",
       "      <td>...</td>\n",
       "      <td>...</td>\n",
       "      <td>...</td>\n",
       "      <td>...</td>\n",
       "    </tr>\n",
       "    <tr>\n",
       "      <th>19995</th>\n",
       "      <td>Z</td>\n",
       "      <td>4.0</td>\n",
       "      <td>6.0</td>\n",
       "      <td>6.0</td>\n",
       "      <td>4.0</td>\n",
       "      <td>4.0</td>\n",
       "      <td>9.0</td>\n",
       "      <td>11.0</td>\n",
       "      <td>6.0</td>\n",
       "      <td>5.0</td>\n",
       "      <td>6.0</td>\n",
       "      <td>5.0</td>\n",
       "      <td>9.0</td>\n",
       "      <td>3.0</td>\n",
       "      <td>8.0</td>\n",
       "      <td>9.0</td>\n",
       "      <td>6.0</td>\n",
       "    </tr>\n",
       "    <tr>\n",
       "      <th>19996</th>\n",
       "      <td>Z</td>\n",
       "      <td>2.0</td>\n",
       "      <td>1.0</td>\n",
       "      <td>2.0</td>\n",
       "      <td>1.0</td>\n",
       "      <td>1.0</td>\n",
       "      <td>8.0</td>\n",
       "      <td>7.0</td>\n",
       "      <td>5.0</td>\n",
       "      <td>9.0</td>\n",
       "      <td>6.0</td>\n",
       "      <td>6.0</td>\n",
       "      <td>8.0</td>\n",
       "      <td>1.0</td>\n",
       "      <td>8.0</td>\n",
       "      <td>6.0</td>\n",
       "      <td>8.0</td>\n",
       "    </tr>\n",
       "    <tr>\n",
       "      <th>19997</th>\n",
       "      <td>Z</td>\n",
       "      <td>3.0</td>\n",
       "      <td>9.0</td>\n",
       "      <td>4.0</td>\n",
       "      <td>7.0</td>\n",
       "      <td>2.0</td>\n",
       "      <td>7.0</td>\n",
       "      <td>7.0</td>\n",
       "      <td>4.0</td>\n",
       "      <td>14.0</td>\n",
       "      <td>10.0</td>\n",
       "      <td>6.0</td>\n",
       "      <td>8.0</td>\n",
       "      <td>0.0</td>\n",
       "      <td>8.0</td>\n",
       "      <td>8.0</td>\n",
       "      <td>8.0</td>\n",
       "    </tr>\n",
       "    <tr>\n",
       "      <th>19998</th>\n",
       "      <td>Z</td>\n",
       "      <td>5.0</td>\n",
       "      <td>10.0</td>\n",
       "      <td>6.0</td>\n",
       "      <td>8.0</td>\n",
       "      <td>3.0</td>\n",
       "      <td>7.0</td>\n",
       "      <td>7.0</td>\n",
       "      <td>4.0</td>\n",
       "      <td>15.0</td>\n",
       "      <td>9.0</td>\n",
       "      <td>6.0</td>\n",
       "      <td>8.0</td>\n",
       "      <td>0.0</td>\n",
       "      <td>8.0</td>\n",
       "      <td>8.0</td>\n",
       "      <td>8.0</td>\n",
       "    </tr>\n",
       "    <tr>\n",
       "      <th>19999</th>\n",
       "      <td>Z</td>\n",
       "      <td>2.0</td>\n",
       "      <td>5.0</td>\n",
       "      <td>3.0</td>\n",
       "      <td>4.0</td>\n",
       "      <td>2.0</td>\n",
       "      <td>7.0</td>\n",
       "      <td>7.0</td>\n",
       "      <td>5.0</td>\n",
       "      <td>9.0</td>\n",
       "      <td>6.0</td>\n",
       "      <td>6.0</td>\n",
       "      <td>8.0</td>\n",
       "      <td>1.0</td>\n",
       "      <td>8.0</td>\n",
       "      <td>7.0</td>\n",
       "      <td>8.0</td>\n",
       "    </tr>\n",
       "  </tbody>\n",
       "</table>\n",
       "<p>20000 rows × 17 columns</p>\n",
       "</div>"
      ],
      "text/plain": [
       "      1    2     3    4    5    6     7     8    9     10    11   12   13  \\\n",
       "0      A  1.0   1.0  3.0  2.0  1.0   8.0   2.0  2.0   2.0   8.0  2.0  8.0   \n",
       "1      A  3.0   7.0  5.0  5.0  3.0  12.0   2.0  3.0   2.0  10.0  2.0  9.0   \n",
       "2      A  3.0   8.0  5.0  6.0  3.0   9.0   2.0  2.0   3.0   8.0  2.0  8.0   \n",
       "3      A  2.0   1.0  4.0  2.0  1.0   8.0   1.0  2.0   2.0   7.0  2.0  8.0   \n",
       "4      A  3.0   7.0  5.0  5.0  3.0  10.0   4.0  1.0   2.0   8.0  3.0  9.0   \n",
       "...   ..  ...   ...  ...  ...  ...   ...   ...  ...   ...   ...  ...  ...   \n",
       "19995  Z  4.0   6.0  6.0  4.0  4.0   9.0  11.0  6.0   5.0   6.0  5.0  9.0   \n",
       "19996  Z  2.0   1.0  2.0  1.0  1.0   8.0   7.0  5.0   9.0   6.0  6.0  8.0   \n",
       "19997  Z  3.0   9.0  4.0  7.0  2.0   7.0   7.0  4.0  14.0  10.0  6.0  8.0   \n",
       "19998  Z  5.0  10.0  6.0  8.0  3.0   7.0   7.0  4.0  15.0   9.0  6.0  8.0   \n",
       "19999  Z  2.0   5.0  3.0  4.0  2.0   7.0   7.0  5.0   9.0   6.0  6.0  8.0   \n",
       "\n",
       "        14   15   16   17  \n",
       "0      1.0  6.0  2.0  7.0  \n",
       "1      2.0  6.0  3.0  8.0  \n",
       "2      2.0  6.0  3.0  7.0  \n",
       "3      2.0  5.0  2.0  7.0  \n",
       "4      2.0  4.0  2.0  7.0  \n",
       "...    ...  ...  ...  ...  \n",
       "19995  3.0  8.0  9.0  6.0  \n",
       "19996  1.0  8.0  6.0  8.0  \n",
       "19997  0.0  8.0  8.0  8.0  \n",
       "19998  0.0  8.0  8.0  8.0  \n",
       "19999  1.0  8.0  7.0  8.0  \n",
       "\n",
       "[20000 rows x 17 columns]"
      ]
     },
     "execution_count": 2,
     "metadata": {},
     "output_type": "execute_result"
    }
   ],
   "source": [
    "#read full dataframe\n",
    "\n",
    "df =  pd.read_csv('../../Data/Input_Data/dataframe_with_outliers_3std_4.16%.csv', sep=\",\", \n",
    "usecols=[1, 2, 3, 4, 5, 6, 7, 8, 9, 10, 11, 12, 13, 14, 15, 16, 17])\n",
    "df.columns = [1, 2, 3, 4, 5, 6, 7, 8, 9, 10, 11, 12, 13, 14, 15, 16, 17]\n",
    "df"
   ]
  },
  {
   "cell_type": "code",
   "execution_count": 3,
   "id": "a0cd38cd",
   "metadata": {},
   "outputs": [
    {
     "data": {
      "text/plain": [
       "Int64Index([1, 2, 3, 4, 5, 6, 7, 8, 9, 10, 11, 12, 13, 14, 15, 16, 17], dtype='int64')"
      ]
     },
     "execution_count": 3,
     "metadata": {},
     "output_type": "execute_result"
    }
   ],
   "source": [
    "df.columns"
   ]
  },
  {
   "cell_type": "code",
   "execution_count": 4,
   "id": "3bbfc94a-0733-4beb-bf3d-f644f906dcef",
   "metadata": {},
   "outputs": [],
   "source": [
    "df = df.rename(lambda x: x-1, axis=\"columns\")"
   ]
  },
  {
   "cell_type": "code",
   "execution_count": 5,
   "id": "4b56b2c1-c867-4786-994b-31402be55a4c",
   "metadata": {},
   "outputs": [
    {
     "data": {
      "text/html": [
       "<div>\n",
       "<style scoped>\n",
       "    .dataframe tbody tr th:only-of-type {\n",
       "        vertical-align: middle;\n",
       "    }\n",
       "\n",
       "    .dataframe tbody tr th {\n",
       "        vertical-align: top;\n",
       "    }\n",
       "\n",
       "    .dataframe thead th {\n",
       "        text-align: right;\n",
       "    }\n",
       "</style>\n",
       "<table border=\"1\" class=\"dataframe\">\n",
       "  <thead>\n",
       "    <tr style=\"text-align: right;\">\n",
       "      <th></th>\n",
       "      <th>0</th>\n",
       "      <th>1</th>\n",
       "      <th>2</th>\n",
       "      <th>3</th>\n",
       "      <th>4</th>\n",
       "      <th>5</th>\n",
       "      <th>6</th>\n",
       "      <th>7</th>\n",
       "      <th>8</th>\n",
       "      <th>9</th>\n",
       "      <th>10</th>\n",
       "      <th>11</th>\n",
       "      <th>12</th>\n",
       "      <th>13</th>\n",
       "      <th>14</th>\n",
       "      <th>15</th>\n",
       "      <th>16</th>\n",
       "    </tr>\n",
       "  </thead>\n",
       "  <tbody>\n",
       "    <tr>\n",
       "      <th>0</th>\n",
       "      <td>A</td>\n",
       "      <td>1.0</td>\n",
       "      <td>1.0</td>\n",
       "      <td>3.0</td>\n",
       "      <td>2.0</td>\n",
       "      <td>1.0</td>\n",
       "      <td>8.0</td>\n",
       "      <td>2.0</td>\n",
       "      <td>2.0</td>\n",
       "      <td>2.0</td>\n",
       "      <td>8.0</td>\n",
       "      <td>2.0</td>\n",
       "      <td>8.0</td>\n",
       "      <td>1.0</td>\n",
       "      <td>6.0</td>\n",
       "      <td>2.0</td>\n",
       "      <td>7.0</td>\n",
       "    </tr>\n",
       "    <tr>\n",
       "      <th>1</th>\n",
       "      <td>A</td>\n",
       "      <td>3.0</td>\n",
       "      <td>7.0</td>\n",
       "      <td>5.0</td>\n",
       "      <td>5.0</td>\n",
       "      <td>3.0</td>\n",
       "      <td>12.0</td>\n",
       "      <td>2.0</td>\n",
       "      <td>3.0</td>\n",
       "      <td>2.0</td>\n",
       "      <td>10.0</td>\n",
       "      <td>2.0</td>\n",
       "      <td>9.0</td>\n",
       "      <td>2.0</td>\n",
       "      <td>6.0</td>\n",
       "      <td>3.0</td>\n",
       "      <td>8.0</td>\n",
       "    </tr>\n",
       "    <tr>\n",
       "      <th>2</th>\n",
       "      <td>A</td>\n",
       "      <td>3.0</td>\n",
       "      <td>8.0</td>\n",
       "      <td>5.0</td>\n",
       "      <td>6.0</td>\n",
       "      <td>3.0</td>\n",
       "      <td>9.0</td>\n",
       "      <td>2.0</td>\n",
       "      <td>2.0</td>\n",
       "      <td>3.0</td>\n",
       "      <td>8.0</td>\n",
       "      <td>2.0</td>\n",
       "      <td>8.0</td>\n",
       "      <td>2.0</td>\n",
       "      <td>6.0</td>\n",
       "      <td>3.0</td>\n",
       "      <td>7.0</td>\n",
       "    </tr>\n",
       "    <tr>\n",
       "      <th>3</th>\n",
       "      <td>A</td>\n",
       "      <td>2.0</td>\n",
       "      <td>1.0</td>\n",
       "      <td>4.0</td>\n",
       "      <td>2.0</td>\n",
       "      <td>1.0</td>\n",
       "      <td>8.0</td>\n",
       "      <td>1.0</td>\n",
       "      <td>2.0</td>\n",
       "      <td>2.0</td>\n",
       "      <td>7.0</td>\n",
       "      <td>2.0</td>\n",
       "      <td>8.0</td>\n",
       "      <td>2.0</td>\n",
       "      <td>5.0</td>\n",
       "      <td>2.0</td>\n",
       "      <td>7.0</td>\n",
       "    </tr>\n",
       "    <tr>\n",
       "      <th>4</th>\n",
       "      <td>A</td>\n",
       "      <td>3.0</td>\n",
       "      <td>7.0</td>\n",
       "      <td>5.0</td>\n",
       "      <td>5.0</td>\n",
       "      <td>3.0</td>\n",
       "      <td>10.0</td>\n",
       "      <td>4.0</td>\n",
       "      <td>1.0</td>\n",
       "      <td>2.0</td>\n",
       "      <td>8.0</td>\n",
       "      <td>3.0</td>\n",
       "      <td>9.0</td>\n",
       "      <td>2.0</td>\n",
       "      <td>4.0</td>\n",
       "      <td>2.0</td>\n",
       "      <td>7.0</td>\n",
       "    </tr>\n",
       "    <tr>\n",
       "      <th>...</th>\n",
       "      <td>...</td>\n",
       "      <td>...</td>\n",
       "      <td>...</td>\n",
       "      <td>...</td>\n",
       "      <td>...</td>\n",
       "      <td>...</td>\n",
       "      <td>...</td>\n",
       "      <td>...</td>\n",
       "      <td>...</td>\n",
       "      <td>...</td>\n",
       "      <td>...</td>\n",
       "      <td>...</td>\n",
       "      <td>...</td>\n",
       "      <td>...</td>\n",
       "      <td>...</td>\n",
       "      <td>...</td>\n",
       "      <td>...</td>\n",
       "    </tr>\n",
       "    <tr>\n",
       "      <th>19995</th>\n",
       "      <td>Z</td>\n",
       "      <td>4.0</td>\n",
       "      <td>6.0</td>\n",
       "      <td>6.0</td>\n",
       "      <td>4.0</td>\n",
       "      <td>4.0</td>\n",
       "      <td>9.0</td>\n",
       "      <td>11.0</td>\n",
       "      <td>6.0</td>\n",
       "      <td>5.0</td>\n",
       "      <td>6.0</td>\n",
       "      <td>5.0</td>\n",
       "      <td>9.0</td>\n",
       "      <td>3.0</td>\n",
       "      <td>8.0</td>\n",
       "      <td>9.0</td>\n",
       "      <td>6.0</td>\n",
       "    </tr>\n",
       "    <tr>\n",
       "      <th>19996</th>\n",
       "      <td>Z</td>\n",
       "      <td>2.0</td>\n",
       "      <td>1.0</td>\n",
       "      <td>2.0</td>\n",
       "      <td>1.0</td>\n",
       "      <td>1.0</td>\n",
       "      <td>8.0</td>\n",
       "      <td>7.0</td>\n",
       "      <td>5.0</td>\n",
       "      <td>9.0</td>\n",
       "      <td>6.0</td>\n",
       "      <td>6.0</td>\n",
       "      <td>8.0</td>\n",
       "      <td>1.0</td>\n",
       "      <td>8.0</td>\n",
       "      <td>6.0</td>\n",
       "      <td>8.0</td>\n",
       "    </tr>\n",
       "    <tr>\n",
       "      <th>19997</th>\n",
       "      <td>Z</td>\n",
       "      <td>3.0</td>\n",
       "      <td>9.0</td>\n",
       "      <td>4.0</td>\n",
       "      <td>7.0</td>\n",
       "      <td>2.0</td>\n",
       "      <td>7.0</td>\n",
       "      <td>7.0</td>\n",
       "      <td>4.0</td>\n",
       "      <td>14.0</td>\n",
       "      <td>10.0</td>\n",
       "      <td>6.0</td>\n",
       "      <td>8.0</td>\n",
       "      <td>0.0</td>\n",
       "      <td>8.0</td>\n",
       "      <td>8.0</td>\n",
       "      <td>8.0</td>\n",
       "    </tr>\n",
       "    <tr>\n",
       "      <th>19998</th>\n",
       "      <td>Z</td>\n",
       "      <td>5.0</td>\n",
       "      <td>10.0</td>\n",
       "      <td>6.0</td>\n",
       "      <td>8.0</td>\n",
       "      <td>3.0</td>\n",
       "      <td>7.0</td>\n",
       "      <td>7.0</td>\n",
       "      <td>4.0</td>\n",
       "      <td>15.0</td>\n",
       "      <td>9.0</td>\n",
       "      <td>6.0</td>\n",
       "      <td>8.0</td>\n",
       "      <td>0.0</td>\n",
       "      <td>8.0</td>\n",
       "      <td>8.0</td>\n",
       "      <td>8.0</td>\n",
       "    </tr>\n",
       "    <tr>\n",
       "      <th>19999</th>\n",
       "      <td>Z</td>\n",
       "      <td>2.0</td>\n",
       "      <td>5.0</td>\n",
       "      <td>3.0</td>\n",
       "      <td>4.0</td>\n",
       "      <td>2.0</td>\n",
       "      <td>7.0</td>\n",
       "      <td>7.0</td>\n",
       "      <td>5.0</td>\n",
       "      <td>9.0</td>\n",
       "      <td>6.0</td>\n",
       "      <td>6.0</td>\n",
       "      <td>8.0</td>\n",
       "      <td>1.0</td>\n",
       "      <td>8.0</td>\n",
       "      <td>7.0</td>\n",
       "      <td>8.0</td>\n",
       "    </tr>\n",
       "  </tbody>\n",
       "</table>\n",
       "<p>20000 rows × 17 columns</p>\n",
       "</div>"
      ],
      "text/plain": [
       "      0    1     2    3    4    5     6     7    8     9     10   11   12  \\\n",
       "0      A  1.0   1.0  3.0  2.0  1.0   8.0   2.0  2.0   2.0   8.0  2.0  8.0   \n",
       "1      A  3.0   7.0  5.0  5.0  3.0  12.0   2.0  3.0   2.0  10.0  2.0  9.0   \n",
       "2      A  3.0   8.0  5.0  6.0  3.0   9.0   2.0  2.0   3.0   8.0  2.0  8.0   \n",
       "3      A  2.0   1.0  4.0  2.0  1.0   8.0   1.0  2.0   2.0   7.0  2.0  8.0   \n",
       "4      A  3.0   7.0  5.0  5.0  3.0  10.0   4.0  1.0   2.0   8.0  3.0  9.0   \n",
       "...   ..  ...   ...  ...  ...  ...   ...   ...  ...   ...   ...  ...  ...   \n",
       "19995  Z  4.0   6.0  6.0  4.0  4.0   9.0  11.0  6.0   5.0   6.0  5.0  9.0   \n",
       "19996  Z  2.0   1.0  2.0  1.0  1.0   8.0   7.0  5.0   9.0   6.0  6.0  8.0   \n",
       "19997  Z  3.0   9.0  4.0  7.0  2.0   7.0   7.0  4.0  14.0  10.0  6.0  8.0   \n",
       "19998  Z  5.0  10.0  6.0  8.0  3.0   7.0   7.0  4.0  15.0   9.0  6.0  8.0   \n",
       "19999  Z  2.0   5.0  3.0  4.0  2.0   7.0   7.0  5.0   9.0   6.0  6.0  8.0   \n",
       "\n",
       "        13   14   15   16  \n",
       "0      1.0  6.0  2.0  7.0  \n",
       "1      2.0  6.0  3.0  8.0  \n",
       "2      2.0  6.0  3.0  7.0  \n",
       "3      2.0  5.0  2.0  7.0  \n",
       "4      2.0  4.0  2.0  7.0  \n",
       "...    ...  ...  ...  ...  \n",
       "19995  3.0  8.0  9.0  6.0  \n",
       "19996  1.0  8.0  6.0  8.0  \n",
       "19997  0.0  8.0  8.0  8.0  \n",
       "19998  0.0  8.0  8.0  8.0  \n",
       "19999  1.0  8.0  7.0  8.0  \n",
       "\n",
       "[20000 rows x 17 columns]"
      ]
     },
     "execution_count": 5,
     "metadata": {},
     "output_type": "execute_result"
    }
   ],
   "source": [
    "df"
   ]
  },
  {
   "cell_type": "code",
   "execution_count": 6,
   "id": "65e50418-5890-40ae-92e1-abdcd03298d5",
   "metadata": {},
   "outputs": [
    {
     "data": {
      "text/html": [
       "<div>\n",
       "<style scoped>\n",
       "    .dataframe tbody tr th:only-of-type {\n",
       "        vertical-align: middle;\n",
       "    }\n",
       "\n",
       "    .dataframe tbody tr th {\n",
       "        vertical-align: top;\n",
       "    }\n",
       "\n",
       "    .dataframe thead th {\n",
       "        text-align: right;\n",
       "    }\n",
       "</style>\n",
       "<table border=\"1\" class=\"dataframe\">\n",
       "  <thead>\n",
       "    <tr style=\"text-align: right;\">\n",
       "      <th></th>\n",
       "      <th>1</th>\n",
       "      <th>2</th>\n",
       "      <th>3</th>\n",
       "      <th>4</th>\n",
       "      <th>5</th>\n",
       "      <th>6</th>\n",
       "      <th>7</th>\n",
       "      <th>8</th>\n",
       "      <th>9</th>\n",
       "      <th>10</th>\n",
       "      <th>11</th>\n",
       "      <th>12</th>\n",
       "      <th>13</th>\n",
       "      <th>14</th>\n",
       "      <th>15</th>\n",
       "      <th>16</th>\n",
       "    </tr>\n",
       "  </thead>\n",
       "  <tbody>\n",
       "    <tr>\n",
       "      <th>0</th>\n",
       "      <td>1.0</td>\n",
       "      <td>1.0</td>\n",
       "      <td>3.0</td>\n",
       "      <td>2.0</td>\n",
       "      <td>1.0</td>\n",
       "      <td>8.0</td>\n",
       "      <td>2.0</td>\n",
       "      <td>2.0</td>\n",
       "      <td>2.0</td>\n",
       "      <td>8.0</td>\n",
       "      <td>2.0</td>\n",
       "      <td>8.0</td>\n",
       "      <td>1.0</td>\n",
       "      <td>6.0</td>\n",
       "      <td>2.0</td>\n",
       "      <td>7.0</td>\n",
       "    </tr>\n",
       "    <tr>\n",
       "      <th>1</th>\n",
       "      <td>3.0</td>\n",
       "      <td>7.0</td>\n",
       "      <td>5.0</td>\n",
       "      <td>5.0</td>\n",
       "      <td>3.0</td>\n",
       "      <td>12.0</td>\n",
       "      <td>2.0</td>\n",
       "      <td>3.0</td>\n",
       "      <td>2.0</td>\n",
       "      <td>10.0</td>\n",
       "      <td>2.0</td>\n",
       "      <td>9.0</td>\n",
       "      <td>2.0</td>\n",
       "      <td>6.0</td>\n",
       "      <td>3.0</td>\n",
       "      <td>8.0</td>\n",
       "    </tr>\n",
       "    <tr>\n",
       "      <th>2</th>\n",
       "      <td>3.0</td>\n",
       "      <td>8.0</td>\n",
       "      <td>5.0</td>\n",
       "      <td>6.0</td>\n",
       "      <td>3.0</td>\n",
       "      <td>9.0</td>\n",
       "      <td>2.0</td>\n",
       "      <td>2.0</td>\n",
       "      <td>3.0</td>\n",
       "      <td>8.0</td>\n",
       "      <td>2.0</td>\n",
       "      <td>8.0</td>\n",
       "      <td>2.0</td>\n",
       "      <td>6.0</td>\n",
       "      <td>3.0</td>\n",
       "      <td>7.0</td>\n",
       "    </tr>\n",
       "    <tr>\n",
       "      <th>3</th>\n",
       "      <td>2.0</td>\n",
       "      <td>1.0</td>\n",
       "      <td>4.0</td>\n",
       "      <td>2.0</td>\n",
       "      <td>1.0</td>\n",
       "      <td>8.0</td>\n",
       "      <td>1.0</td>\n",
       "      <td>2.0</td>\n",
       "      <td>2.0</td>\n",
       "      <td>7.0</td>\n",
       "      <td>2.0</td>\n",
       "      <td>8.0</td>\n",
       "      <td>2.0</td>\n",
       "      <td>5.0</td>\n",
       "      <td>2.0</td>\n",
       "      <td>7.0</td>\n",
       "    </tr>\n",
       "    <tr>\n",
       "      <th>4</th>\n",
       "      <td>3.0</td>\n",
       "      <td>7.0</td>\n",
       "      <td>5.0</td>\n",
       "      <td>5.0</td>\n",
       "      <td>3.0</td>\n",
       "      <td>10.0</td>\n",
       "      <td>4.0</td>\n",
       "      <td>1.0</td>\n",
       "      <td>2.0</td>\n",
       "      <td>8.0</td>\n",
       "      <td>3.0</td>\n",
       "      <td>9.0</td>\n",
       "      <td>2.0</td>\n",
       "      <td>4.0</td>\n",
       "      <td>2.0</td>\n",
       "      <td>7.0</td>\n",
       "    </tr>\n",
       "    <tr>\n",
       "      <th>...</th>\n",
       "      <td>...</td>\n",
       "      <td>...</td>\n",
       "      <td>...</td>\n",
       "      <td>...</td>\n",
       "      <td>...</td>\n",
       "      <td>...</td>\n",
       "      <td>...</td>\n",
       "      <td>...</td>\n",
       "      <td>...</td>\n",
       "      <td>...</td>\n",
       "      <td>...</td>\n",
       "      <td>...</td>\n",
       "      <td>...</td>\n",
       "      <td>...</td>\n",
       "      <td>...</td>\n",
       "      <td>...</td>\n",
       "    </tr>\n",
       "    <tr>\n",
       "      <th>19995</th>\n",
       "      <td>4.0</td>\n",
       "      <td>6.0</td>\n",
       "      <td>6.0</td>\n",
       "      <td>4.0</td>\n",
       "      <td>4.0</td>\n",
       "      <td>9.0</td>\n",
       "      <td>11.0</td>\n",
       "      <td>6.0</td>\n",
       "      <td>5.0</td>\n",
       "      <td>6.0</td>\n",
       "      <td>5.0</td>\n",
       "      <td>9.0</td>\n",
       "      <td>3.0</td>\n",
       "      <td>8.0</td>\n",
       "      <td>9.0</td>\n",
       "      <td>6.0</td>\n",
       "    </tr>\n",
       "    <tr>\n",
       "      <th>19996</th>\n",
       "      <td>2.0</td>\n",
       "      <td>1.0</td>\n",
       "      <td>2.0</td>\n",
       "      <td>1.0</td>\n",
       "      <td>1.0</td>\n",
       "      <td>8.0</td>\n",
       "      <td>7.0</td>\n",
       "      <td>5.0</td>\n",
       "      <td>9.0</td>\n",
       "      <td>6.0</td>\n",
       "      <td>6.0</td>\n",
       "      <td>8.0</td>\n",
       "      <td>1.0</td>\n",
       "      <td>8.0</td>\n",
       "      <td>6.0</td>\n",
       "      <td>8.0</td>\n",
       "    </tr>\n",
       "    <tr>\n",
       "      <th>19997</th>\n",
       "      <td>3.0</td>\n",
       "      <td>9.0</td>\n",
       "      <td>4.0</td>\n",
       "      <td>7.0</td>\n",
       "      <td>2.0</td>\n",
       "      <td>7.0</td>\n",
       "      <td>7.0</td>\n",
       "      <td>4.0</td>\n",
       "      <td>14.0</td>\n",
       "      <td>10.0</td>\n",
       "      <td>6.0</td>\n",
       "      <td>8.0</td>\n",
       "      <td>0.0</td>\n",
       "      <td>8.0</td>\n",
       "      <td>8.0</td>\n",
       "      <td>8.0</td>\n",
       "    </tr>\n",
       "    <tr>\n",
       "      <th>19998</th>\n",
       "      <td>5.0</td>\n",
       "      <td>10.0</td>\n",
       "      <td>6.0</td>\n",
       "      <td>8.0</td>\n",
       "      <td>3.0</td>\n",
       "      <td>7.0</td>\n",
       "      <td>7.0</td>\n",
       "      <td>4.0</td>\n",
       "      <td>15.0</td>\n",
       "      <td>9.0</td>\n",
       "      <td>6.0</td>\n",
       "      <td>8.0</td>\n",
       "      <td>0.0</td>\n",
       "      <td>8.0</td>\n",
       "      <td>8.0</td>\n",
       "      <td>8.0</td>\n",
       "    </tr>\n",
       "    <tr>\n",
       "      <th>19999</th>\n",
       "      <td>2.0</td>\n",
       "      <td>5.0</td>\n",
       "      <td>3.0</td>\n",
       "      <td>4.0</td>\n",
       "      <td>2.0</td>\n",
       "      <td>7.0</td>\n",
       "      <td>7.0</td>\n",
       "      <td>5.0</td>\n",
       "      <td>9.0</td>\n",
       "      <td>6.0</td>\n",
       "      <td>6.0</td>\n",
       "      <td>8.0</td>\n",
       "      <td>1.0</td>\n",
       "      <td>8.0</td>\n",
       "      <td>7.0</td>\n",
       "      <td>8.0</td>\n",
       "    </tr>\n",
       "  </tbody>\n",
       "</table>\n",
       "<p>20000 rows × 16 columns</p>\n",
       "</div>"
      ],
      "text/plain": [
       "        1     2    3    4    5     6     7    8     9     10   11   12   13  \\\n",
       "0      1.0   1.0  3.0  2.0  1.0   8.0   2.0  2.0   2.0   8.0  2.0  8.0  1.0   \n",
       "1      3.0   7.0  5.0  5.0  3.0  12.0   2.0  3.0   2.0  10.0  2.0  9.0  2.0   \n",
       "2      3.0   8.0  5.0  6.0  3.0   9.0   2.0  2.0   3.0   8.0  2.0  8.0  2.0   \n",
       "3      2.0   1.0  4.0  2.0  1.0   8.0   1.0  2.0   2.0   7.0  2.0  8.0  2.0   \n",
       "4      3.0   7.0  5.0  5.0  3.0  10.0   4.0  1.0   2.0   8.0  3.0  9.0  2.0   \n",
       "...    ...   ...  ...  ...  ...   ...   ...  ...   ...   ...  ...  ...  ...   \n",
       "19995  4.0   6.0  6.0  4.0  4.0   9.0  11.0  6.0   5.0   6.0  5.0  9.0  3.0   \n",
       "19996  2.0   1.0  2.0  1.0  1.0   8.0   7.0  5.0   9.0   6.0  6.0  8.0  1.0   \n",
       "19997  3.0   9.0  4.0  7.0  2.0   7.0   7.0  4.0  14.0  10.0  6.0  8.0  0.0   \n",
       "19998  5.0  10.0  6.0  8.0  3.0   7.0   7.0  4.0  15.0   9.0  6.0  8.0  0.0   \n",
       "19999  2.0   5.0  3.0  4.0  2.0   7.0   7.0  5.0   9.0   6.0  6.0  8.0  1.0   \n",
       "\n",
       "        14   15   16  \n",
       "0      6.0  2.0  7.0  \n",
       "1      6.0  3.0  8.0  \n",
       "2      6.0  3.0  7.0  \n",
       "3      5.0  2.0  7.0  \n",
       "4      4.0  2.0  7.0  \n",
       "...    ...  ...  ...  \n",
       "19995  8.0  9.0  6.0  \n",
       "19996  8.0  6.0  8.0  \n",
       "19997  8.0  8.0  8.0  \n",
       "19998  8.0  8.0  8.0  \n",
       "19999  8.0  7.0  8.0  \n",
       "\n",
       "[20000 rows x 16 columns]"
      ]
     },
     "execution_count": 6,
     "metadata": {},
     "output_type": "execute_result"
    }
   ],
   "source": [
    "letters = df[0]\n",
    "df = df.drop(0, axis=1)\n",
    "df"
   ]
  },
  {
   "cell_type": "code",
   "execution_count": 7,
   "id": "c195ee80-a71a-429b-9146-8aabba11bcd6",
   "metadata": {},
   "outputs": [
    {
     "name": "stdout",
     "output_type": "stream",
     "text": [
      "2\n",
      "<class 'int'>\n",
      "KstestResult(statistic=0.9033498680518208, pvalue=0.0, statistic_location=2.0, statistic_sign=-1)\n"
     ]
    },
    {
     "data": {
      "image/png": "[encoded data removed]",
      "text/plain": [
       "<Figure size 432x288 with 1 Axes>"
      ]
     },
     "metadata": {
      "needs_background": "light"
     },
     "output_type": "display_data"
    },
    {
     "name": "stdout",
     "output_type": "stream",
     "text": [
      "3\n",
      "<class 'int'>\n",
      "KstestResult(statistic=0.9483998680518207, pvalue=0.0, statistic_location=2.0, statistic_sign=-1)\n"
     ]
    },
    {
     "data": {
      "image/png": "[encoded data removed]",
      "text/plain": [
       "<Figure size 432x288 with 1 Axes>"
      ]
     },
     "metadata": {
      "needs_background": "light"
     },
     "output_type": "display_data"
    },
    {
     "name": "stdout",
     "output_type": "stream",
     "text": [
      "4\n",
      "<class 'int'>\n",
      "KstestResult(statistic=0.9149998680518208, pvalue=0.0, statistic_location=2.0, statistic_sign=-1)\n"
     ]
    },
    {
     "data": {
      "image/png": "[encoded data removed]",
      "text/plain": [
       "<Figure size 432x288 with 1 Axes>"
      ]
     },
     "metadata": {
      "needs_background": "light"
     },
     "output_type": "display_data"
    },
    {
     "name": "stdout",
     "output_type": "stream",
     "text": [
      "5\n",
      "<class 'int'>\n",
      "KstestResult(statistic=0.8142998680518208, pvalue=0.0, statistic_location=2.0, statistic_sign=-1)\n"
     ]
    },
    {
     "data": {
      "image/png": "[encoded data removed]",
      "text/plain": [
       "<Figure size 432x288 with 1 Axes>"
      ]
     },
     "metadata": {
      "needs_background": "light"
     },
     "output_type": "display_data"
    },
    {
     "name": "stdout",
     "output_type": "stream",
     "text": [
      "6\n",
      "<class 'int'>\n",
      "KstestResult(statistic=0.9741001019683699, pvalue=0.0, statistic_location=3.0, statistic_sign=-1)\n"
     ]
    },
    {
     "data": {
      "image/png": "[encoded data removed]",
      "text/plain": [
       "<Figure size 432x288 with 1 Axes>"
      ]
     },
     "metadata": {
      "needs_background": "light"
     },
     "output_type": "display_data"
    },
    {
     "name": "stdout",
     "output_type": "stream",
     "text": [
      "7\n",
      "<class 'int'>\n",
      "KstestResult(statistic=0.9700001019683699, pvalue=0.0, statistic_location=3.0, statistic_sign=-1)\n"
     ]
    },
    {
     "data": {
      "image/png": "[encoded data removed]",
      "text/plain": [
       "<Figure size 432x288 with 1 Axes>"
      ]
     },
     "metadata": {
      "needs_background": "light"
     },
     "output_type": "display_data"
    },
    {
     "name": "stdout",
     "output_type": "stream",
     "text": [
      "8\n",
      "<class 'int'>\n",
      "KstestResult(statistic=0.9020998680518209, pvalue=0.0, statistic_location=2.0, statistic_sign=-1)\n"
     ]
    },
    {
     "data": {
      "image/png": "[encoded data removed]",
      "text/plain": [
       "<Figure size 432x288 with 1 Axes>"
      ]
     },
     "metadata": {
      "needs_background": "light"
     },
     "output_type": "display_data"
    },
    {
     "name": "stdout",
     "output_type": "stream",
     "text": [
      "9\n",
      "<class 'int'>\n",
      "KstestResult(statistic=0.9228998680518208, pvalue=0.0, statistic_location=2.0, statistic_sign=-1)\n"
     ]
    },
    {
     "data": {
      "image/png": "[encoded data removed]",
      "text/plain": [
       "<Figure size 432x288 with 1 Axes>"
      ]
     },
     "metadata": {
      "needs_background": "light"
     },
     "output_type": "display_data"
    },
    {
     "name": "stdout",
     "output_type": "stream",
     "text": [
      "10\n",
      "<class 'int'>\n",
      "KstestResult(statistic=0.9835001019683699, pvalue=0.0, statistic_location=3.0, statistic_sign=-1)\n"
     ]
    },
    {
     "data": {
      "image/png": "[encoded data removed]",
      "text/plain": [
       "<Figure size 432x288 with 1 Axes>"
      ]
     },
     "metadata": {
      "needs_background": "light"
     },
     "output_type": "display_data"
    },
    {
     "name": "stdout",
     "output_type": "stream",
     "text": [
      "11\n",
      "<class 'int'>\n",
      "KstestResult(statistic=0.9464498680518207, pvalue=0.0, statistic_location=2.0, statistic_sign=-1)\n"
     ]
    },
    {
     "data": {
      "image/png": "[encoded data removed]",
      "text/plain": [
       "<Figure size 432x288 with 1 Axes>"
      ]
     },
     "metadata": {
      "needs_background": "light"
     },
     "output_type": "display_data"
    },
    {
     "name": "stdout",
     "output_type": "stream",
     "text": [
      "12\n",
      "<class 'int'>\n",
      "KstestResult(statistic=0.9948001019683699, pvalue=0.0, statistic_location=3.0, statistic_sign=-1)\n"
     ]
    },
    {
     "data": {
      "image/png": "[encoded data removed]",
      "text/plain": [
       "<Figure size 432x288 with 1 Axes>"
      ]
     },
     "metadata": {
      "needs_background": "light"
     },
     "output_type": "display_data"
    },
    {
     "name": "stdout",
     "output_type": "stream",
     "text": [
      "13\n",
      "<class 'int'>\n",
      "KstestResult(statistic=0.7263998680518208, pvalue=0.0, statistic_location=2.0, statistic_sign=-1)\n"
     ]
    },
    {
     "data": {
      "image/png": "[encoded data removed]",
      "text/plain": [
       "<Figure size 432x288 with 1 Axes>"
      ]
     },
     "metadata": {
      "needs_background": "light"
     },
     "output_type": "display_data"
    },
    {
     "name": "stdout",
     "output_type": "stream",
     "text": [
      "14\n",
      "<class 'int'>\n",
      "KstestResult(statistic=0.9971001019683698, pvalue=0.0, statistic_location=3.0, statistic_sign=-1)\n"
     ]
    },
    {
     "data": {
      "image/png": "[encoded data removed]",
      "text/plain": [
       "<Figure size 432x288 with 1 Axes>"
      ]
     },
     "metadata": {
      "needs_background": "light"
     },
     "output_type": "display_data"
    },
    {
     "name": "stdout",
     "output_type": "stream",
     "text": [
      "15\n",
      "<class 'int'>\n",
      "KstestResult(statistic=0.7520498680518208, pvalue=0.0, statistic_location=2.0, statistic_sign=-1)\n"
     ]
    },
    {
     "data": {
      "image/png": "[encoded data removed]",
      "text/plain": [
       "<Figure size 432x288 with 1 Axes>"
      ]
     },
     "metadata": {
      "needs_background": "light"
     },
     "output_type": "display_data"
    },
    {
     "name": "stdout",
     "output_type": "stream",
     "text": [
      "16\n",
      "<class 'int'>\n",
      "KstestResult(statistic=0.9962001019683699, pvalue=0.0, statistic_location=3.0, statistic_sign=-1)\n"
     ]
    },
    {
     "data": {
      "image/png": "[encoded data removed]",
      "text/plain": [
       "<Figure size 432x288 with 1 Axes>"
      ]
     },
     "metadata": {
      "needs_background": "light"
     },
     "output_type": "display_data"
    }
   ],
   "source": [
    "#Test for gaussian distribution with the kolmogorov-smirnov test, as well as visually through histograms\n",
    "for i in range(2,17):\n",
    "    print(i)\n",
    "    print(type(i))\n",
    "    print(kstest(df[i], 'norm'))\n",
    "    plt.hist(df[i])\n",
    "    plt.show()\n",
    "    \n",
    "# Results show that the distribution of the data is not normal (p-value, histograms), thus, we cannot use PCA or other methods that assume normal distribution"
   ]
  },
  {
   "cell_type": "code",
   "execution_count": 8,
   "id": "8867f985-7780-44c5-81b0-3ada5371ce38",
   "metadata": {},
   "outputs": [],
   "source": [
    "#KNN (K-Nearest Neighbors) to determine the eps-value for the DBSCAN\n",
    "\n",
    "neighbors = NearestNeighbors(n_neighbors=32)\n",
    "neighbors_fit = neighbors.fit(df)\n",
    "distances, indices = neighbors_fit.kneighbors(df)"
   ]
  },
  {
   "cell_type": "code",
   "execution_count": 9,
   "id": "a0307ba6-97ef-4260-b3ef-ed3288ea7972",
   "metadata": {},
   "outputs": [
    {
     "data": {
      "text/plain": [
       "[<matplotlib.lines.Line2D at 0x1d1f2f476d0>]"
      ]
     },
     "execution_count": 9,
     "metadata": {},
     "output_type": "execute_result"
    },
    {
     "data": {
      "image/png": "[encoded data removed]",
      "text/plain": [
       "<Figure size 432x288 with 1 Axes>"
      ]
     },
     "metadata": {
      "needs_background": "light"
     },
     "output_type": "display_data"
    }
   ],
   "source": [
    "distances = np.sort(distances, axis=0)\n",
    "distances = distances[:,1]\n",
    "plt.plot(distances)"
   ]
  },
  {
   "cell_type": "code",
   "execution_count": 10,
   "id": "b706a1af-cc4b-43d3-8a3d-a0b85c473625",
   "metadata": {},
   "outputs": [
    {
     "name": "stdout",
     "output_type": "stream",
     "text": [
      "18 4487\n",
      "Outliers:  22.435 %\n"
     ]
    }
   ],
   "source": [
    "#DBSCAN\n",
    "#min_samples = 2*Dimensions(=16) = 32\n",
    "#eps = 3.9 (knee, after some testing, 3.9 produces the best results)\n",
    "db = DBSCAN(eps=3.9, min_samples=32).fit(df)\n",
    "\n",
    "core_samples_mask = np.zeros_like(db.labels_, dtype=bool)\n",
    "core_samples_mask[db.core_sample_indices_] = True\n",
    "labels = db.labels_\n",
    "\n",
    "# Number of clusters in labels, ignoring noise if present.\n",
    "n_clusters_ = len(set(labels)) - (1 if -1 in labels else 0)\n",
    "n_noise_ = list(labels).count(-1)\n",
    "\n",
    "#Make copy of DF and then add new columns to it so we can rerun this code as much as we like\n",
    "df1 = df.copy()\n",
    "df1['cluster'] = labels\n",
    "df1[0] = letters\n",
    "print(n_clusters_, n_noise_)\n",
    "df1\n",
    "\n",
    "percent_outliers = n_noise_ / len(df1.index) * 100\n",
    "print(\"Outliers: \", percent_outliers, \"%\")\n",
    "#Cluster -1 contains the outliers.\n",
    "#14 clusters, 3852 ouliers (19.26%)"
   ]
  },
  {
   "cell_type": "code",
   "execution_count": 11,
   "id": "96617348-a977-4124-aeda-cc2484673c20",
   "metadata": {},
   "outputs": [
    {
     "data": {
      "text/plain": [
       "cluster  0\n",
       "-1       A    181\n",
       "         B    106\n",
       "         C    137\n",
       "         D    152\n",
       "         E    118\n",
       "         F    150\n",
       "         G    165\n",
       "         H    133\n",
       "         I    141\n",
       "         J    181\n",
       "         K    196\n",
       "         L    164\n",
       "         M    325\n",
       "         N    212\n",
       "         O    125\n",
       "         P    258\n",
       "         Q    217\n",
       "         R    106\n",
       "         S    188\n",
       "         T    128\n",
       "         U    176\n",
       "         V    143\n",
       "         W    234\n",
       "         X    116\n",
       "         Y    251\n",
       "         Z    184\n",
       " 0       A    577\n",
       "         L      2\n",
       "         Q      1\n",
       "         S      3\n",
       " 1       A     31\n",
       "         B    660\n",
       "         C    599\n",
       "         D    653\n",
       "         E    649\n",
       "         F    588\n",
       "         G    608\n",
       "         H    416\n",
       "         I    614\n",
       "         J    401\n",
       "         K    421\n",
       "         L     89\n",
       "         M    276\n",
       "         N    367\n",
       "         O    628\n",
       "         P    398\n",
       "         Q    535\n",
       "         R    652\n",
       "         S    557\n",
       "         T    607\n",
       "         U    441\n",
       "         V    621\n",
       "         W    478\n",
       "         X    671\n",
       "         Y    535\n",
       "         Z    550\n",
       " 2       F     32\n",
       " 3       H    185\n",
       "         M     45\n",
       "         N    204\n",
       "         U    162\n",
       " 4       J    130\n",
       " 5       J     35\n",
       " 6       K    122\n",
       " 7       L    136\n",
       " 8       L    230\n",
       " 9       L    102\n",
       " 10      L     38\n",
       " 11      M    146\n",
       " 12      P    147\n",
       " 13      E      1\n",
       "         Q     30\n",
       " 14      T     38\n",
       " 15      F      5\n",
       "         T     23\n",
       " 16      U     34\n",
       " 17      W     40\n",
       "dtype: int64"
      ]
     },
     "execution_count": 11,
     "metadata": {},
     "output_type": "execute_result"
    }
   ],
   "source": [
    "#Show clusters and letter combinations.\n",
    "df2 = df1\n",
    "pd.set_option('display.max_rows', 200)\n",
    "df2.groupby(['cluster', 0]).size()\n",
    "\n",
    "#Displays each cluster and how many units of each letter are included in the cluster. \n",
    "#As can be seen, cluster 0 is very big, while other clusters are very small. "
   ]
  },
  {
   "cell_type": "code",
   "execution_count": 12,
   "id": "81d5d350-a364-409f-b051-fa78a20db3ba",
   "metadata": {},
   "outputs": [
    {
     "data": {
      "text/html": [
       "<div>\n",
       "<style scoped>\n",
       "    .dataframe tbody tr th:only-of-type {\n",
       "        vertical-align: middle;\n",
       "    }\n",
       "\n",
       "    .dataframe tbody tr th {\n",
       "        vertical-align: top;\n",
       "    }\n",
       "\n",
       "    .dataframe thead th {\n",
       "        text-align: right;\n",
       "    }\n",
       "</style>\n",
       "<table border=\"1\" class=\"dataframe\">\n",
       "  <thead>\n",
       "    <tr style=\"text-align: right;\">\n",
       "      <th></th>\n",
       "      <th>1</th>\n",
       "      <th>2</th>\n",
       "      <th>3</th>\n",
       "      <th>4</th>\n",
       "      <th>5</th>\n",
       "      <th>6</th>\n",
       "      <th>7</th>\n",
       "      <th>8</th>\n",
       "      <th>9</th>\n",
       "      <th>10</th>\n",
       "      <th>11</th>\n",
       "      <th>12</th>\n",
       "      <th>13</th>\n",
       "      <th>14</th>\n",
       "      <th>15</th>\n",
       "      <th>16</th>\n",
       "      <th>cluster</th>\n",
       "      <th>0</th>\n",
       "    </tr>\n",
       "  </thead>\n",
       "  <tbody>\n",
       "    <tr>\n",
       "      <th>0</th>\n",
       "      <td>1.0</td>\n",
       "      <td>1.0</td>\n",
       "      <td>3.0</td>\n",
       "      <td>2.0</td>\n",
       "      <td>1.0</td>\n",
       "      <td>8.0</td>\n",
       "      <td>2.0</td>\n",
       "      <td>2.0</td>\n",
       "      <td>2.0</td>\n",
       "      <td>8.0</td>\n",
       "      <td>2.0</td>\n",
       "      <td>8.0</td>\n",
       "      <td>1.0</td>\n",
       "      <td>6.0</td>\n",
       "      <td>2.0</td>\n",
       "      <td>7.0</td>\n",
       "      <td>0</td>\n",
       "      <td>A</td>\n",
       "    </tr>\n",
       "    <tr>\n",
       "      <th>1</th>\n",
       "      <td>3.0</td>\n",
       "      <td>7.0</td>\n",
       "      <td>5.0</td>\n",
       "      <td>5.0</td>\n",
       "      <td>3.0</td>\n",
       "      <td>12.0</td>\n",
       "      <td>2.0</td>\n",
       "      <td>3.0</td>\n",
       "      <td>2.0</td>\n",
       "      <td>10.0</td>\n",
       "      <td>2.0</td>\n",
       "      <td>9.0</td>\n",
       "      <td>2.0</td>\n",
       "      <td>6.0</td>\n",
       "      <td>3.0</td>\n",
       "      <td>8.0</td>\n",
       "      <td>0</td>\n",
       "      <td>A</td>\n",
       "    </tr>\n",
       "    <tr>\n",
       "      <th>2</th>\n",
       "      <td>3.0</td>\n",
       "      <td>8.0</td>\n",
       "      <td>5.0</td>\n",
       "      <td>6.0</td>\n",
       "      <td>3.0</td>\n",
       "      <td>9.0</td>\n",
       "      <td>2.0</td>\n",
       "      <td>2.0</td>\n",
       "      <td>3.0</td>\n",
       "      <td>8.0</td>\n",
       "      <td>2.0</td>\n",
       "      <td>8.0</td>\n",
       "      <td>2.0</td>\n",
       "      <td>6.0</td>\n",
       "      <td>3.0</td>\n",
       "      <td>7.0</td>\n",
       "      <td>0</td>\n",
       "      <td>A</td>\n",
       "    </tr>\n",
       "    <tr>\n",
       "      <th>3</th>\n",
       "      <td>2.0</td>\n",
       "      <td>1.0</td>\n",
       "      <td>4.0</td>\n",
       "      <td>2.0</td>\n",
       "      <td>1.0</td>\n",
       "      <td>8.0</td>\n",
       "      <td>1.0</td>\n",
       "      <td>2.0</td>\n",
       "      <td>2.0</td>\n",
       "      <td>7.0</td>\n",
       "      <td>2.0</td>\n",
       "      <td>8.0</td>\n",
       "      <td>2.0</td>\n",
       "      <td>5.0</td>\n",
       "      <td>2.0</td>\n",
       "      <td>7.0</td>\n",
       "      <td>0</td>\n",
       "      <td>A</td>\n",
       "    </tr>\n",
       "    <tr>\n",
       "      <th>4</th>\n",
       "      <td>3.0</td>\n",
       "      <td>7.0</td>\n",
       "      <td>5.0</td>\n",
       "      <td>5.0</td>\n",
       "      <td>3.0</td>\n",
       "      <td>10.0</td>\n",
       "      <td>4.0</td>\n",
       "      <td>1.0</td>\n",
       "      <td>2.0</td>\n",
       "      <td>8.0</td>\n",
       "      <td>3.0</td>\n",
       "      <td>9.0</td>\n",
       "      <td>2.0</td>\n",
       "      <td>4.0</td>\n",
       "      <td>2.0</td>\n",
       "      <td>7.0</td>\n",
       "      <td>0</td>\n",
       "      <td>A</td>\n",
       "    </tr>\n",
       "    <tr>\n",
       "      <th>...</th>\n",
       "      <td>...</td>\n",
       "      <td>...</td>\n",
       "      <td>...</td>\n",
       "      <td>...</td>\n",
       "      <td>...</td>\n",
       "      <td>...</td>\n",
       "      <td>...</td>\n",
       "      <td>...</td>\n",
       "      <td>...</td>\n",
       "      <td>...</td>\n",
       "      <td>...</td>\n",
       "      <td>...</td>\n",
       "      <td>...</td>\n",
       "      <td>...</td>\n",
       "      <td>...</td>\n",
       "      <td>...</td>\n",
       "      <td>...</td>\n",
       "      <td>...</td>\n",
       "    </tr>\n",
       "    <tr>\n",
       "      <th>19995</th>\n",
       "      <td>4.0</td>\n",
       "      <td>6.0</td>\n",
       "      <td>6.0</td>\n",
       "      <td>4.0</td>\n",
       "      <td>4.0</td>\n",
       "      <td>9.0</td>\n",
       "      <td>11.0</td>\n",
       "      <td>6.0</td>\n",
       "      <td>5.0</td>\n",
       "      <td>6.0</td>\n",
       "      <td>5.0</td>\n",
       "      <td>9.0</td>\n",
       "      <td>3.0</td>\n",
       "      <td>8.0</td>\n",
       "      <td>9.0</td>\n",
       "      <td>6.0</td>\n",
       "      <td>1</td>\n",
       "      <td>Z</td>\n",
       "    </tr>\n",
       "    <tr>\n",
       "      <th>19996</th>\n",
       "      <td>2.0</td>\n",
       "      <td>1.0</td>\n",
       "      <td>2.0</td>\n",
       "      <td>1.0</td>\n",
       "      <td>1.0</td>\n",
       "      <td>8.0</td>\n",
       "      <td>7.0</td>\n",
       "      <td>5.0</td>\n",
       "      <td>9.0</td>\n",
       "      <td>6.0</td>\n",
       "      <td>6.0</td>\n",
       "      <td>8.0</td>\n",
       "      <td>1.0</td>\n",
       "      <td>8.0</td>\n",
       "      <td>6.0</td>\n",
       "      <td>8.0</td>\n",
       "      <td>1</td>\n",
       "      <td>Z</td>\n",
       "    </tr>\n",
       "    <tr>\n",
       "      <th>19997</th>\n",
       "      <td>3.0</td>\n",
       "      <td>9.0</td>\n",
       "      <td>4.0</td>\n",
       "      <td>7.0</td>\n",
       "      <td>2.0</td>\n",
       "      <td>7.0</td>\n",
       "      <td>7.0</td>\n",
       "      <td>4.0</td>\n",
       "      <td>14.0</td>\n",
       "      <td>10.0</td>\n",
       "      <td>6.0</td>\n",
       "      <td>8.0</td>\n",
       "      <td>0.0</td>\n",
       "      <td>8.0</td>\n",
       "      <td>8.0</td>\n",
       "      <td>8.0</td>\n",
       "      <td>1</td>\n",
       "      <td>Z</td>\n",
       "    </tr>\n",
       "    <tr>\n",
       "      <th>19998</th>\n",
       "      <td>5.0</td>\n",
       "      <td>10.0</td>\n",
       "      <td>6.0</td>\n",
       "      <td>8.0</td>\n",
       "      <td>3.0</td>\n",
       "      <td>7.0</td>\n",
       "      <td>7.0</td>\n",
       "      <td>4.0</td>\n",
       "      <td>15.0</td>\n",
       "      <td>9.0</td>\n",
       "      <td>6.0</td>\n",
       "      <td>8.0</td>\n",
       "      <td>0.0</td>\n",
       "      <td>8.0</td>\n",
       "      <td>8.0</td>\n",
       "      <td>8.0</td>\n",
       "      <td>1</td>\n",
       "      <td>Z</td>\n",
       "    </tr>\n",
       "    <tr>\n",
       "      <th>19999</th>\n",
       "      <td>2.0</td>\n",
       "      <td>5.0</td>\n",
       "      <td>3.0</td>\n",
       "      <td>4.0</td>\n",
       "      <td>2.0</td>\n",
       "      <td>7.0</td>\n",
       "      <td>7.0</td>\n",
       "      <td>5.0</td>\n",
       "      <td>9.0</td>\n",
       "      <td>6.0</td>\n",
       "      <td>6.0</td>\n",
       "      <td>8.0</td>\n",
       "      <td>1.0</td>\n",
       "      <td>8.0</td>\n",
       "      <td>7.0</td>\n",
       "      <td>8.0</td>\n",
       "      <td>1</td>\n",
       "      <td>Z</td>\n",
       "    </tr>\n",
       "  </tbody>\n",
       "</table>\n",
       "<p>20000 rows × 18 columns</p>\n",
       "</div>"
      ],
      "text/plain": [
       "         1     2    3    4    5     6     7    8     9    10   11   12   13  \\\n",
       "0      1.0   1.0  3.0  2.0  1.0   8.0   2.0  2.0   2.0   8.0  2.0  8.0  1.0   \n",
       "1      3.0   7.0  5.0  5.0  3.0  12.0   2.0  3.0   2.0  10.0  2.0  9.0  2.0   \n",
       "2      3.0   8.0  5.0  6.0  3.0   9.0   2.0  2.0   3.0   8.0  2.0  8.0  2.0   \n",
       "3      2.0   1.0  4.0  2.0  1.0   8.0   1.0  2.0   2.0   7.0  2.0  8.0  2.0   \n",
       "4      3.0   7.0  5.0  5.0  3.0  10.0   4.0  1.0   2.0   8.0  3.0  9.0  2.0   \n",
       "...    ...   ...  ...  ...  ...   ...   ...  ...   ...   ...  ...  ...  ...   \n",
       "19995  4.0   6.0  6.0  4.0  4.0   9.0  11.0  6.0   5.0   6.0  5.0  9.0  3.0   \n",
       "19996  2.0   1.0  2.0  1.0  1.0   8.0   7.0  5.0   9.0   6.0  6.0  8.0  1.0   \n",
       "19997  3.0   9.0  4.0  7.0  2.0   7.0   7.0  4.0  14.0  10.0  6.0  8.0  0.0   \n",
       "19998  5.0  10.0  6.0  8.0  3.0   7.0   7.0  4.0  15.0   9.0  6.0  8.0  0.0   \n",
       "19999  2.0   5.0  3.0  4.0  2.0   7.0   7.0  5.0   9.0   6.0  6.0  8.0  1.0   \n",
       "\n",
       "        14   15   16  cluster  0  \n",
       "0      6.0  2.0  7.0        0  A  \n",
       "1      6.0  3.0  8.0        0  A  \n",
       "2      6.0  3.0  7.0        0  A  \n",
       "3      5.0  2.0  7.0        0  A  \n",
       "4      4.0  2.0  7.0        0  A  \n",
       "...    ...  ...  ...      ... ..  \n",
       "19995  8.0  9.0  6.0        1  Z  \n",
       "19996  8.0  6.0  8.0        1  Z  \n",
       "19997  8.0  8.0  8.0        1  Z  \n",
       "19998  8.0  8.0  8.0        1  Z  \n",
       "19999  8.0  7.0  8.0        1  Z  \n",
       "\n",
       "[20000 rows x 18 columns]"
      ]
     },
     "execution_count": 12,
     "metadata": {},
     "output_type": "execute_result"
    }
   ],
   "source": [
    "df1"
   ]
  },
  {
   "cell_type": "code",
   "execution_count": 13,
   "id": "fa78e46d-f9ca-402b-8184-48e7e3bc5be8",
   "metadata": {},
   "outputs": [
    {
     "name": "stdout",
     "output_type": "stream",
     "text": [
      "A\n"
     ]
    },
    {
     "data": {
      "image/png": "[encoded data removed]",
      "text/plain": [
       "<Figure size 432x288 with 1 Axes>"
      ]
     },
     "metadata": {
      "needs_background": "light"
     },
     "output_type": "display_data"
    },
    {
     "name": "stdout",
     "output_type": "stream",
     "text": [
      "knee:  770 4.000000000000028\n",
      "Letter: A Number of clusters:  4 Number of outliers: 119 Percentage of outliers: 15.08 %\n",
      "B\n"
     ]
    },
    {
     "data": {
      "image/png": "[encoded data removed]",
      "text/plain": [
       "<Figure size 432x288 with 1 Axes>"
      ]
     },
     "metadata": {
      "needs_background": "light"
     },
     "output_type": "display_data"
    },
    {
     "name": "stdout",
     "output_type": "stream",
     "text": [
      "knee:  742 3.872983346207417\n",
      "Letter: B Number of clusters:  2 Number of outliers: 129 Percentage of outliers: 16.84 %\n",
      "C\n"
     ]
    },
    {
     "data": {
      "image/png": "[encoded data removed]",
      "text/plain": [
       "<Figure size 432x288 with 1 Axes>"
      ]
     },
     "metadata": {
      "needs_background": "light"
     },
     "output_type": "display_data"
    },
    {
     "name": "stdout",
     "output_type": "stream",
     "text": [
      "knee:  713 4.58257569495584\n",
      "Letter: C Number of clusters:  3 Number of outliers: 32 Percentage of outliers: 4.35 %\n",
      "D\n"
     ]
    },
    {
     "data": {
      "image/png": "[encoded data removed]",
      "text/plain": [
       "<Figure size 432x288 with 1 Axes>"
      ]
     },
     "metadata": {
      "needs_background": "light"
     },
     "output_type": "display_data"
    },
    {
     "name": "stdout",
     "output_type": "stream",
     "text": [
      "knee:  781 3.872983346207417\n",
      "Letter: D Number of clusters:  4 Number of outliers: 141 Percentage of outliers: 17.52 %\n",
      "E\n"
     ]
    },
    {
     "data": {
      "image/png": "[encoded data removed]",
      "text/plain": [
       "<Figure size 432x288 with 1 Axes>"
      ]
     },
     "metadata": {
      "needs_background": "light"
     },
     "output_type": "display_data"
    },
    {
     "name": "stdout",
     "output_type": "stream",
     "text": [
      "knee:  756 5.156413093505359\n",
      "Letter: E Number of clusters:  1 Number of outliers: 14 Percentage of outliers: 1.82 %\n",
      "F\n"
     ]
    },
    {
     "data": {
      "image/png": "[encoded data removed]",
      "text/plain": [
       "<Figure size 432x288 with 1 Axes>"
      ]
     },
     "metadata": {
      "needs_background": "light"
     },
     "output_type": "display_data"
    },
    {
     "name": "stdout",
     "output_type": "stream",
     "text": [
      "knee:  744 4.123105625617661\n",
      "Letter: F Number of clusters:  4 Number of outliers: 123 Percentage of outliers: 15.87 %\n",
      "G\n"
     ]
    },
    {
     "data": {
      "image/png": "[encoded data removed]",
      "text/plain": [
       "<Figure size 432x288 with 1 Axes>"
      ]
     },
     "metadata": {
      "needs_background": "light"
     },
     "output_type": "display_data"
    },
    {
     "name": "stdout",
     "output_type": "stream",
     "text": [
      "knee:  755 4.358898943540674\n",
      "Letter: G Number of clusters:  4 Number of outliers: 81 Percentage of outliers: 10.48 %\n",
      "H\n"
     ]
    },
    {
     "data": {
      "image/png": "[encoded data removed]",
      "text/plain": [
       "<Figure size 432x288 with 1 Axes>"
      ]
     },
     "metadata": {
      "needs_background": "light"
     },
     "output_type": "display_data"
    },
    {
     "name": "stdout",
     "output_type": "stream",
     "text": [
      "knee:  716 4.69041575982343\n",
      "Letter: H Number of clusters:  2 Number of outliers: 93 Percentage of outliers: 12.67 %\n",
      "I\n"
     ]
    },
    {
     "data": {
      "image/png": "[encoded data removed]",
      "text/plain": [
       "<Figure size 432x288 with 1 Axes>"
      ]
     },
     "metadata": {
      "needs_background": "light"
     },
     "output_type": "display_data"
    },
    {
     "name": "stdout",
     "output_type": "stream",
     "text": [
      "knee:  739 4.123105625617661\n",
      "Letter: I Number of clusters:  5 Number of outliers: 85 Percentage of outliers: 11.26 %\n",
      "J\n"
     ]
    },
    {
     "data": {
      "image/png": "[encoded data removed]",
      "text/plain": [
       "<Figure size 432x288 with 1 Axes>"
      ]
     },
     "metadata": {
      "needs_background": "light"
     },
     "output_type": "display_data"
    },
    {
     "name": "stdout",
     "output_type": "stream",
     "text": [
      "knee:  719 4.123105625617661\n",
      "Letter: J Number of clusters:  5 Number of outliers: 155 Percentage of outliers: 20.75 %\n",
      "K\n"
     ]
    },
    {
     "data": {
      "image/png": "[encoded data removed]",
      "text/plain": [
       "<Figure size 432x288 with 1 Axes>"
      ]
     },
     "metadata": {
      "needs_background": "light"
     },
     "output_type": "display_data"
    },
    {
     "name": "stdout",
     "output_type": "stream",
     "text": [
      "knee:  706 4.123105625617661\n",
      "Letter: K Number of clusters:  4 Number of outliers: 194 Percentage of outliers: 26.25 %\n",
      "L\n"
     ]
    },
    {
     "data": {
      "image/png": "[encoded data removed]",
      "text/plain": [
       "<Figure size 432x288 with 1 Axes>"
      ]
     },
     "metadata": {
      "needs_background": "light"
     },
     "output_type": "display_data"
    },
    {
     "name": "stdout",
     "output_type": "stream",
     "text": [
      "knee:  747 5.218061502920464\n",
      "Letter: L Number of clusters:  3 Number of outliers: 19 Percentage of outliers: 2.50 %\n",
      "M\n"
     ]
    },
    {
     "data": {
      "image/png": "[encoded data removed]",
      "text/plain": [
       "<Figure size 432x288 with 1 Axes>"
      ]
     },
     "metadata": {
      "needs_background": "light"
     },
     "output_type": "display_data"
    },
    {
     "name": "stdout",
     "output_type": "stream",
     "text": [
      "knee:  764 4.242640687119285\n",
      "Letter: M Number of clusters:  3 Number of outliers: 227 Percentage of outliers: 28.66 %\n",
      "N\n"
     ]
    },
    {
     "data": {
      "image/png": "[encoded data removed]",
      "text/plain": [
       "<Figure size 432x288 with 1 Axes>"
      ]
     },
     "metadata": {
      "needs_background": "light"
     },
     "output_type": "display_data"
    },
    {
     "name": "stdout",
     "output_type": "stream",
     "text": [
      "knee:  755 4.0\n",
      "Letter: N Number of clusters:  3 Number of outliers: 200 Percentage of outliers: 25.54 %\n",
      "O\n"
     ]
    },
    {
     "data": {
      "image/png": "[encoded data removed]",
      "text/plain": [
       "<Figure size 432x288 with 1 Axes>"
      ]
     },
     "metadata": {
      "needs_background": "light"
     },
     "output_type": "display_data"
    },
    {
     "name": "stdout",
     "output_type": "stream",
     "text": [
      "knee:  727 3.605551275463989\n",
      "Letter: O Number of clusters:  1 Number of outliers: 192 Percentage of outliers: 25.50 %\n",
      "P\n"
     ]
    },
    {
     "data": {
      "image/png": "[encoded data removed]",
      "text/plain": [
       "<Figure size 432x288 with 1 Axes>"
      ]
     },
     "metadata": {
      "needs_background": "light"
     },
     "output_type": "display_data"
    },
    {
     "name": "stdout",
     "output_type": "stream",
     "text": [
      "knee:  782 4.242640687119285\n",
      "Letter: P Number of clusters:  2 Number of outliers: 143 Percentage of outliers: 17.81 %\n",
      "Q\n"
     ]
    },
    {
     "data": {
      "image/png": "[encoded data removed]",
      "text/plain": [
       "<Figure size 432x288 with 1 Axes>"
      ]
     },
     "metadata": {
      "needs_background": "light"
     },
     "output_type": "display_data"
    },
    {
     "name": "stdout",
     "output_type": "stream",
     "text": [
      "knee:  766 4.58257569495584\n",
      "Letter: Q Number of clusters:  3 Number of outliers: 62 Percentage of outliers: 7.92 %\n",
      "R\n"
     ]
    },
    {
     "data": {
      "image/png": "[encoded data removed]",
      "text/plain": [
       "<Figure size 432x288 with 1 Axes>"
      ]
     },
     "metadata": {
      "needs_background": "light"
     },
     "output_type": "display_data"
    },
    {
     "name": "stdout",
     "output_type": "stream",
     "text": [
      "knee:  736 3.8741596107103073\n",
      "Letter: R Number of clusters:  2 Number of outliers: 126 Percentage of outliers: 16.62 %\n",
      "S\n"
     ]
    },
    {
     "data": {
      "image/png": "[encoded data removed]",
      "text/plain": [
       "<Figure size 432x288 with 1 Axes>"
      ]
     },
     "metadata": {
      "needs_background": "light"
     },
     "output_type": "display_data"
    },
    {
     "name": "stdout",
     "output_type": "stream",
     "text": [
      "knee:  734 4.58257569495584\n",
      "Letter: S Number of clusters:  4 Number of outliers: 80 Percentage of outliers: 10.70 %\n",
      "T\n"
     ]
    },
    {
     "data": {
      "image/png": "[encoded data removed]",
      "text/plain": [
       "<Figure size 432x288 with 1 Axes>"
      ]
     },
     "metadata": {
      "needs_background": "light"
     },
     "output_type": "display_data"
    },
    {
     "name": "stdout",
     "output_type": "stream",
     "text": [
      "knee:  769 4.0\n",
      "Letter: T Number of clusters:  4 Number of outliers: 100 Percentage of outliers: 12.56 %\n",
      "U\n"
     ]
    },
    {
     "data": {
      "image/png": "[encoded data removed]",
      "text/plain": [
       "<Figure size 432x288 with 1 Axes>"
      ]
     },
     "metadata": {
      "needs_background": "light"
     },
     "output_type": "display_data"
    },
    {
     "name": "stdout",
     "output_type": "stream",
     "text": [
      "knee:  789 4.243310629009514\n",
      "Letter: U Number of clusters:  3 Number of outliers: 89 Percentage of outliers: 10.95 %\n",
      "V\n"
     ]
    },
    {
     "data": {
      "image/png": "[encoded data removed]",
      "text/plain": [
       "<Figure size 432x288 with 1 Axes>"
      ]
     },
     "metadata": {
      "needs_background": "light"
     },
     "output_type": "display_data"
    },
    {
     "name": "stdout",
     "output_type": "stream",
     "text": [
      "knee:  734 3.7416573867739413\n",
      "Letter: V Number of clusters:  4 Number of outliers: 146 Percentage of outliers: 19.11 %\n",
      "W\n"
     ]
    },
    {
     "data": {
      "image/png": "[encoded data removed]",
      "text/plain": [
       "<Figure size 432x288 with 1 Axes>"
      ]
     },
     "metadata": {
      "needs_background": "light"
     },
     "output_type": "display_data"
    },
    {
     "name": "stdout",
     "output_type": "stream",
     "text": [
      "knee:  733 4.69041575982343\n",
      "Letter: W Number of clusters:  3 Number of outliers: 91 Percentage of outliers: 12.10 %\n",
      "X\n"
     ]
    },
    {
     "data": {
      "image/png": "[encoded data removed]",
      "text/plain": [
       "<Figure size 432x288 with 1 Axes>"
      ]
     },
     "metadata": {
      "needs_background": "light"
     },
     "output_type": "display_data"
    },
    {
     "name": "stdout",
     "output_type": "stream",
     "text": [
      "knee:  765 3.872983346207417\n",
      "Letter: X Number of clusters:  2 Number of outliers: 116 Percentage of outliers: 14.74 %\n",
      "Y\n"
     ]
    },
    {
     "data": {
      "image/png": "[encoded data removed]",
      "text/plain": [
       "<Figure size 432x288 with 1 Axes>"
      ]
     },
     "metadata": {
      "needs_background": "light"
     },
     "output_type": "display_data"
    },
    {
     "name": "stdout",
     "output_type": "stream",
     "text": [
      "knee:  758 4.358898943540674\n",
      "Letter: Y Number of clusters:  4 Number of outliers: 149 Percentage of outliers: 18.96 %\n",
      "Z\n"
     ]
    },
    {
     "data": {
      "image/png": "[encoded data removed]",
      "text/plain": [
       "<Figure size 432x288 with 1 Axes>"
      ]
     },
     "metadata": {
      "needs_background": "light"
     },
     "output_type": "display_data"
    },
    {
     "name": "stdout",
     "output_type": "stream",
     "text": [
      "knee:  717 4.69041575982343\n",
      "Letter: Z Number of clusters:  4 Number of outliers: 47 Percentage of outliers: 6.40 %\n",
      "\n",
      "Overall outliers:  14.765 %\n"
     ]
    }
   ],
   "source": [
    "#KNN (K-Nearest Neighbors) to determine the eps-value for the DBSCAN for each letter\n",
    "#for ltr in range(65,91): loop through alphabet; 65=A, 66=B, ... 89=Y, 90=Z\n",
    "num_outliers = 0\n",
    "ltr_data = pd.DataFrame({\n",
    "    #'letter': [],\n",
    "    'clusters': [],\n",
    "    'outliers': [],\n",
    "    'percent_outliers': [],\n",
    "})\n",
    "\n",
    "outlierColumn =  pd.read_csv('../../Data/Input_Data/dataframe_with_outliers_3std_4.16%.csv', sep=\",\", \n",
    "        usecols=['letter', \"outlier\"])\n",
    "outlierColumn.columns = [1, 18]\n",
    "\n",
    "outlierColumn\n",
    "\n",
    "df3 = df1.copy()\n",
    "df3['letter_outlier'] = np.nan\n",
    "\n",
    "outputToCSV = pd.DataFrame(data={'_': [0.0]})\n",
    "\n",
    "for ltr in range(65,91):\n",
    "    ltr = chr(ltr)\n",
    "    print(ltr)\n",
    "    \n",
    "    dfFiltered = df1[df1[0] == ltr]\n",
    "    lettersFiltered = dfFiltered[0]\n",
    "    dfFiltered = dfFiltered.drop(0, axis=1)\n",
    "    dfFiltered = dfFiltered.drop('cluster', axis=1)\n",
    "\n",
    "    neighbors = NearestNeighbors(n_neighbors=17)\n",
    "    neighbors_fit = neighbors.fit(dfFiltered)\n",
    "    distances, indices = neighbors_fit.kneighbors(dfFiltered)\n",
    "    \n",
    "    distances = np.sort(distances, axis=0)\n",
    "    distances = distances[:,1]\n",
    "    plt.plot(distances)\n",
    "    plt.show()\n",
    "    \n",
    "    #calculates the knee (eps)\n",
    "    from kneed import KneeLocator\n",
    "    y = distances\n",
    "    x = range(1, len(distances)+1)\n",
    "    kn = KneeLocator(x, y, curve='convex', direction='increasing')\n",
    "    print('knee: ', kn.knee, y[x.index(kn.knee)])\n",
    "    \n",
    "    #runs the DBSCAN for each letter with eps = knee and min_samples = 17 (D+1, which is the recommended minimum)\n",
    "    dbFiltered = DBSCAN(eps=y[x.index(kn.knee)], min_samples=17).fit(dfFiltered)\n",
    "\n",
    "    core_samples_mask = np.zeros_like(dbFiltered.labels_, dtype=bool)\n",
    "    core_samples_mask[dbFiltered.core_sample_indices_] = True\n",
    "    labelsFiltered = dbFiltered.labels_\n",
    "\n",
    "    #Number of clusters in labels, ignoring noise if present.\n",
    "    n_clusters_Filtered = len(set(labelsFiltered)) - (1 if -1 in labelsFiltered else 0)\n",
    "    n_noise_Filtered = list(labelsFiltered).count(-1)\n",
    "    \n",
    "    num_outliers += n_noise_Filtered\n",
    "\n",
    "    #Make copy of DF and then add new columns to the copy so we can rerun this code as much as we like\n",
    "    df1Filtered = dfFiltered.copy()\n",
    "    df1Filtered['cluster'] = labelsFiltered\n",
    "    df1Filtered[0] = lettersFiltered\n",
    "    \n",
    "    ltr_percent_outliers = n_noise_Filtered / len(dfFiltered) * 100\n",
    "    \n",
    "    print('Letter:', ltr, 'Number of clusters: ', n_clusters_Filtered, 'Number of outliers:', n_noise_Filtered, \n",
    "            'Percentage of outliers:', '{:.2f}'.format(ltr_percent_outliers), '%')\n",
    "    ltr_data.loc[ltr]=[n_clusters_Filtered, n_noise_Filtered, ltr_percent_outliers]\n",
    "    \n",
    "    # new code for F1_Score\n",
    "    outliersFiltered = outlierColumn[outlierColumn[1] == ltr]\n",
    "    outliersFiltered = outliersFiltered.drop(1, axis=1)\n",
    "    \n",
    "    outliersArray = [0 if n != -1 else 1 for n in labelsFiltered]\n",
    "    j = 0\n",
    "    for i in dfFiltered.index:\n",
    "        df3.loc[i,'letter_outlier'] = outliersArray[j]\n",
    "        j += 1\n",
    "        pass\n",
    "    \n",
    "    \"\"\"\n",
    "    row[\"f1\"] = f1_score(\n",
    "                    results[name][\"outlier\"], results[name][\"projection\"])\n",
    "                row[\"accuracy\"] = accuracy_score(\n",
    "                    results[name][\"outlier\"], results[name][\"projection\"])\n",
    "                row[\"precision\"] = precision_score(\n",
    "                    results[name][\"outlier\"], results[name][\"projection\"])\n",
    "                row[\"recall\"] = recall_score(\n",
    "                    results[name][\"outlier\"], results[name][\"projection\"])\n",
    "    \"\"\"\n",
    "    \n",
    "   \n",
    "\n",
    "    outputToCSV[ltr] = ltr_percent_outliers / 100\n",
    "\n",
    "percent_outliers = num_outliers / len(df1.index) * 100\n",
    "ltr_data.loc[\"sum\", \"percent_outliers\"] = percent_outliers\n",
    "print(\"\")\n",
    "print(\"Overall outliers: \", percent_outliers, \"%\")\n",
    "\n",
    "outputToCSV['sum'] = percent_outliers / 100\n",
    "\n",
    "#Returns with the knee value and graph, as well as the number of clusters and the number of outliers for each letter\n",
    "#Final percentage of outliers for all letters together is 14.59%\n",
    "df3[18] = outlierColumn[18]"
   ]
  },
  {
   "cell_type": "code",
   "execution_count": 14,
   "id": "bc949dd7-c2bf-4d58-b513-0e28d155239a",
   "metadata": {},
   "outputs": [
    {
     "name": "stdout",
     "output_type": "stream",
     "text": [
      "0.30066050198150596\n",
      "0.86765\n",
      "0.19268540467321368\n",
      "0.6838942307692307\n"
     ]
    }
   ],
   "source": [
    "print(f1_score(df3[18], df3['letter_outlier']))\n",
    "print(accuracy_score(df3[18], df3['letter_outlier']))\n",
    "print(precision_score(df3[18], df3['letter_outlier']))\n",
    "print(recall_score(df3[18], df3['letter_outlier']))\n",
    "\n",
    "outputToCSV['f1'] = f1_score(df3[18], df3['letter_outlier'])\n",
    "outputToCSV['accuracy'] = accuracy_score(df3[18], df3['letter_outlier'])\n",
    "outputToCSV['precision'] = precision_score(df3[18], df3['letter_outlier'])\n",
    "outputToCSV['recall'] = recall_score(df3[18], df3['letter_outlier'])"
   ]
  },
  {
   "cell_type": "code",
   "execution_count": 15,
   "id": "453518e3-b642-458e-b89f-acaa8c5f0851",
   "metadata": {},
   "outputs": [],
   "source": [
    "outputToCSV.to_csv('../../Data/Output_Data/03_DBScan/TEST_result_DBSCAN_per_3std_4,16%.csv')"
   ]
  },
  {
   "cell_type": "code",
   "execution_count": 16,
   "id": "a64670d5-e592-43e6-9ad8-4de585a989fb",
   "metadata": {},
   "outputs": [],
   "source": [
    "df4 = df3.copy()\n",
    "df4 = df4.drop('cluster', axis=1)\n",
    "df4 = df4.drop(0, axis=1)\n",
    "df4 = df4.rename(columns={18: 'projection', 'letter_outlier': 'outlier'})\n",
    "df4.to_csv('../../Data/Output_Data/03_DBScan/TEST_result_DBSCAN_val_3std_4,16%.csv')"
   ]
  },
  {
   "cell_type": "code",
   "execution_count": 17,
   "id": "f208669e-0948-4f55-8006-892b9482693d",
   "metadata": {},
   "outputs": [
    {
     "data": {
      "image/png": "[encoded data removed]",
      "text/plain": [
       "<Figure size 2160x720 with 1 Axes>"
      ]
     },
     "metadata": {
      "needs_background": "light"
     },
     "output_type": "display_data"
    },
    {
     "data": {
      "image/png": "[encoded data removed]",
      "text/plain": [
       "<Figure size 720x720 with 1 Axes>"
      ]
     },
     "metadata": {
      "needs_background": "light"
     },
     "output_type": "display_data"
    }
   ],
   "source": [
    "\n",
    "ltr_data.plot(figsize=(30,10))\n",
    "plt.xticks(range(0,27), labels=ltr_data.index)\n",
    "plt.show()\n",
    "\n",
    "fig = plt.figure(figsize=(10,10))\n",
    "plt.bar(np.arange(len(ltr_data)), height=ltr_data['percent_outliers'], width=0.2, label='Percentage')\n",
    "plt.xticks(range(0,27), labels=ltr_data.index)\n",
    "plt.legend()\n",
    "plt.show(fig)\n"
   ]
  },
  {
   "cell_type": "code",
   "execution_count": 18,
   "id": "723e43cf",
   "metadata": {},
   "outputs": [],
   "source": [
    "ltr_data.to_csv(\"../../Data/Output_Data/03_DBScan/TEST_result_DBScan.csv\")"
   ]
  }
 ],
 "metadata": {
  "kernelspec": {
   "display_name": "Python 3",
   "language": "python",
   "name": "python3"
  },
  "language_info": {
   "codemirror_mode": {
    "name": "ipython",
    "version": 3
   },
   "file_extension": ".py",
   "mimetype": "text/x-python",
   "name": "python",
   "nbconvert_exporter": "python",
   "pygments_lexer": "ipython3",
   "version": "3.9.7"
  },
  "vscode": {
   "interpreter": {
    "hash": "f2c2ca1c87da01fb52268abc3977c437405da1f8003aa0161136559854c1f177"
   }
  }
 },
 "nbformat": 4,
 "nbformat_minor": 5
}
